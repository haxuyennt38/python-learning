{
 "cells": [
  {
   "cell_type": "markdown",
   "metadata": {},
   "source": [
    "# Découverte de la bibliothèque Numpy"
   ]
  },
  {
   "cell_type": "markdown",
   "metadata": {},
   "source": [
    "- Utiliser la fonction numpy.genfromtxt() pour lire le fichier \"world_alcohol.csv\" dans un tableau qu'on nommera world_alcohol\n",
    "- Utiliser les fonctions type() et print() pour afficher le type de world_alcohol"
   ]
  },
  {
   "cell_type": "code",
   "execution_count": 7,
   "metadata": {},
   "outputs": [
    {
     "name": "stdout",
     "output_type": "stream",
     "text": [
      "<class 'numpy.ndarray'>\n"
     ]
    }
   ],
   "source": [
    "import numpy as np\n",
    "\n",
    "world_alcohol = np.genfromtxt(\"world_alcohol.csv\", delimiter=\",\")\n",
    "print(type(world_alcohol))"
   ]
  },
  {
   "cell_type": "markdown",
   "metadata": {},
   "source": [
    "- Assigner le type de données de world_alcohol à la variable world_alcohol_dtype\n",
    "- Afficher world_alcohol_dtype"
   ]
  },
  {
   "cell_type": "code",
   "execution_count": 8,
   "metadata": {},
   "outputs": [
    {
     "name": "stdout",
     "output_type": "stream",
     "text": [
      "float64\n"
     ]
    }
   ],
   "source": [
    "world_alcohol_dtype = world_alcohol.dtype\n",
    "print(world_alcohol_dtype)"
   ]
  },
  {
   "cell_type": "markdown",
   "metadata": {},
   "source": [
    "## Afficher les données correctement"
   ]
  },
  {
   "cell_type": "code",
   "execution_count": 17,
   "metadata": {},
   "outputs": [
    {
     "data": {
      "text/plain": [
       "array([['1986', 'Western Pacific', 'Viet Nam', 'Wine', '0'],\n",
       "       ['1986', 'Americas', 'Uruguay', 'Other', '0.5'],\n",
       "       ['1985', 'Africa', \"Cte d'Ivoire\", 'Wine', '1.62'],\n",
       "       ..., \n",
       "       ['1986', 'Europe', 'Switzerland', 'Spirits', '2.54'],\n",
       "       ['1987', 'Western Pacific', 'Papua New Guinea', 'Other', '0'],\n",
       "       ['1986', 'Africa', 'Swaziland', 'Other', '5.15']], \n",
       "      dtype='<U75')"
      ]
     },
     "execution_count": 17,
     "metadata": {},
     "output_type": "execute_result"
    }
   ],
   "source": [
    "world_alcohol = np.genfromtxt(\"world_alcohol.csv\", delimiter=\",\", dtype=\"U75\", skip_header=1)\n",
    "world_alcohol"
   ]
  },
  {
   "cell_type": "markdown",
   "metadata": {},
   "source": [
    "## Extraire une valeur depuis un tableau Numpy"
   ]
  },
  {
   "cell_type": "markdown",
   "metadata": {},
   "source": [
    "- Assigner le nombre de litres de vin bu par un Ivoirien en 1985 à la variable ivoire_1985. Cela correspond à la donnée de la 3e ligne.\n",
    "- Assigner le nom du pays de la 2e ligne à la variable second_country."
   ]
  },
  {
   "cell_type": "code",
   "execution_count": 18,
   "metadata": {},
   "outputs": [
    {
     "name": "stdout",
     "output_type": "stream",
     "text": [
      "1.62\n"
     ]
    }
   ],
   "source": [
    "ivoire_1985 = world_alcohol[2,4]\n",
    "print(ivoire_1985)"
   ]
  },
  {
   "cell_type": "code",
   "execution_count": 20,
   "metadata": {},
   "outputs": [
    {
     "name": "stdout",
     "output_type": "stream",
     "text": [
      "Uruguay\n"
     ]
    }
   ],
   "source": [
    "second_country = world_alcohol[1,2]\n",
    "print(second_country)"
   ]
  },
  {
   "cell_type": "markdown",
   "metadata": {},
   "source": [
    "## Extraire un vecteur de valeurs depuis un tableau Numpy"
   ]
  },
  {
   "cell_type": "markdown",
   "metadata": {},
   "source": [
    "- Assigner toute la 3e colonne de world_alcohol à la variable countries.\n",
    "- Assigner l'ensemble de la 5e colonne de world_alcohol à la variable alcohol_consumption."
   ]
  },
  {
   "cell_type": "code",
   "execution_count": 21,
   "metadata": {},
   "outputs": [
    {
     "name": "stdout",
     "output_type": "stream",
     "text": [
      "['Viet Nam' 'Uruguay' \"Cte d'Ivoire\" ..., 'Switzerland' 'Papua New Guinea'\n",
      " 'Swaziland']\n"
     ]
    }
   ],
   "source": [
    "countries = world_alcohol[:,2]\n",
    "print(countries)"
   ]
  },
  {
   "cell_type": "code",
   "execution_count": 23,
   "metadata": {},
   "outputs": [
    {
     "name": "stdout",
     "output_type": "stream",
     "text": [
      "['0' '0.5' '1.62' ..., '2.54' '0' '5.15']\n"
     ]
    }
   ],
   "source": [
    "alcohol_consumption = world_alcohol[:,4]\n",
    "print(alcohol_consumption)"
   ]
  },
  {
   "cell_type": "markdown",
   "metadata": {},
   "source": [
    "## Extraire un tableau de valeurs depuis un tableau Numpy"
   ]
  },
  {
   "cell_type": "markdown",
   "metadata": {},
   "source": [
    "- Assigner toutes les lignes des 2 premières colonnes de world_alcohol à la variable first_two_columns.\n",
    "- Assigner les 10 premières lignes de la première colonne de world_alcohol à la variable first_ten_years.\n",
    "- Assigner les 10 premières lignes de toutes les colonnes de world_alcohol à la variable first_ten_rows.\n",
    "- Assigner les 20 premières lignes des colonnes d'indice 1 et 2 de world_alcohol à la variable first_twenty_regions."
   ]
  },
  {
   "cell_type": "code",
   "execution_count": 24,
   "metadata": {
    "collapsed": true
   },
   "outputs": [],
   "source": [
    "first_two_columns = world_alcohol[:,0:2]"
   ]
  },
  {
   "cell_type": "code",
   "execution_count": 25,
   "metadata": {
    "collapsed": true
   },
   "outputs": [],
   "source": [
    "first_ten_years = world_alcohol[0:10,0]"
   ]
  },
  {
   "cell_type": "code",
   "execution_count": 26,
   "metadata": {
    "collapsed": true
   },
   "outputs": [],
   "source": [
    "first_ten_rows = world_alcohol[0:10,:]"
   ]
  },
  {
   "cell_type": "code",
   "execution_count": 27,
   "metadata": {
    "collapsed": true
   },
   "outputs": [],
   "source": [
    "first_twenty_regions = world_alcohol[0:20,1:3]"
   ]
  },
  {
   "cell_type": "code",
   "execution_count": 28,
   "metadata": {},
   "outputs": [
    {
     "name": "stdout",
     "output_type": "stream",
     "text": [
      "[['1986' 'Western Pacific']\n",
      " ['1986' 'Americas']\n",
      " ['1985' 'Africa']\n",
      " ..., \n",
      " ['1986' 'Europe']\n",
      " ['1987' 'Western Pacific']\n",
      " ['1986' 'Africa']]\n"
     ]
    }
   ],
   "source": [
    "print(first_two_columns)"
   ]
  },
  {
   "cell_type": "code",
   "execution_count": 29,
   "metadata": {},
   "outputs": [
    {
     "name": "stdout",
     "output_type": "stream",
     "text": [
      "['1986' '1986' '1985' '1986' '1987' '1987' '1987' '1985' '1986' '1984']\n"
     ]
    }
   ],
   "source": [
    "print(first_ten_years)"
   ]
  },
  {
   "cell_type": "code",
   "execution_count": 30,
   "metadata": {},
   "outputs": [
    {
     "name": "stdout",
     "output_type": "stream",
     "text": [
      "[['1986' 'Western Pacific' 'Viet Nam' 'Wine' '0']\n",
      " ['1986' 'Americas' 'Uruguay' 'Other' '0.5']\n",
      " ['1985' 'Africa' \"Cte d'Ivoire\" 'Wine' '1.62']\n",
      " ['1986' 'Americas' 'Colombia' 'Beer' '4.27']\n",
      " ['1987' 'Americas' 'Saint Kitts and Nevis' 'Beer' '1.98']\n",
      " ['1987' 'Americas' 'Guatemala' 'Other' '0']\n",
      " ['1987' 'Africa' 'Mauritius' 'Wine' '0.13']\n",
      " ['1985' 'Africa' 'Angola' 'Spirits' '0.39']\n",
      " ['1986' 'Americas' 'Antigua and Barbuda' 'Spirits' '1.55']\n",
      " ['1984' 'Africa' 'Nigeria' 'Other' '6.1']]\n"
     ]
    }
   ],
   "source": [
    "print(first_ten_rows)"
   ]
  },
  {
   "cell_type": "code",
   "execution_count": 31,
   "metadata": {},
   "outputs": [
    {
     "name": "stdout",
     "output_type": "stream",
     "text": [
      "[['Western Pacific' 'Viet Nam']\n",
      " ['Americas' 'Uruguay']\n",
      " ['Africa' \"Cte d'Ivoire\"]\n",
      " ['Americas' 'Colombia']\n",
      " ['Americas' 'Saint Kitts and Nevis']\n",
      " ['Americas' 'Guatemala']\n",
      " ['Africa' 'Mauritius']\n",
      " ['Africa' 'Angola']\n",
      " ['Americas' 'Antigua and Barbuda']\n",
      " ['Africa' 'Nigeria']\n",
      " ['Africa' 'Botswana']\n",
      " ['Americas' 'Guatemala']\n",
      " ['Western Pacific' \"Lao People's Democratic Republic\"]\n",
      " ['Eastern Mediterranean' 'Afghanistan']\n",
      " ['Western Pacific' 'Viet Nam']\n",
      " ['Africa' 'Guinea-Bissau']\n",
      " ['Americas' 'Costa Rica']\n",
      " ['Africa' 'Seychelles']\n",
      " ['Europe' 'Norway']\n",
      " ['Africa' 'Kenya']]\n"
     ]
    }
   ],
   "source": [
    "print(first_twenty_regions)"
   ]
  }
 ],
 "metadata": {
  "kernelspec": {
   "display_name": "Python 3",
   "language": "python",
   "name": "python3"
  },
  "language_info": {
   "codemirror_mode": {
    "name": "ipython",
    "version": 3
   },
   "file_extension": ".py",
   "mimetype": "text/x-python",
   "name": "python",
   "nbconvert_exporter": "python",
   "pygments_lexer": "ipython3",
   "version": "3.6.8"
  }
 },
 "nbformat": 4,
 "nbformat_minor": 2
}
